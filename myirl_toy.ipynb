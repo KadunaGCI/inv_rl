{
 "cells": [
  {
   "cell_type": "markdown",
   "metadata": {},
   "source": [
    "1銘柄のみで組んでみる．<br>\n",
    "状態としては，value, growthのみを利用"
   ]
  },
  {
   "cell_type": "code",
   "execution_count": 1,
   "metadata": {},
   "outputs": [],
   "source": [
    "import pandas as pd\n",
    "\n",
    "df_oracle = pd.read_csv('./data_4toy/oracle.csv',index_col=0).iloc[:,0:1]\n",
    "df_value = pd.read_csv('./data_4toy/val_q.csv',index_col=0).iloc[:,0:1]\n",
    "df_growth = pd.read_csv('./data_4toy/growth_q.csv',index_col=0).iloc[:,0:1]"
   ]
  },
  {
   "cell_type": "code",
   "execution_count": 2,
   "metadata": {},
   "outputs": [
    {
     "data": {
      "text/html": [
       "<div>\n",
       "<style>\n",
       "    .dataframe thead tr:only-child th {\n",
       "        text-align: right;\n",
       "    }\n",
       "\n",
       "    .dataframe thead th {\n",
       "        text-align: left;\n",
       "    }\n",
       "\n",
       "    .dataframe tbody tr th {\n",
       "        vertical-align: top;\n",
       "    }\n",
       "</style>\n",
       "<table border=\"1\" class=\"dataframe\">\n",
       "  <thead>\n",
       "    <tr style=\"text-align: right;\">\n",
       "      <th></th>\n",
       "      <th>JPNBCG1</th>\n",
       "    </tr>\n",
       "    <tr>\n",
       "      <th>date</th>\n",
       "      <th></th>\n",
       "    </tr>\n",
       "  </thead>\n",
       "  <tbody>\n",
       "    <tr>\n",
       "      <th>20140203</th>\n",
       "      <td>-1.0</td>\n",
       "    </tr>\n",
       "    <tr>\n",
       "      <th>20140204</th>\n",
       "      <td>-1.0</td>\n",
       "    </tr>\n",
       "    <tr>\n",
       "      <th>20140205</th>\n",
       "      <td>-1.0</td>\n",
       "    </tr>\n",
       "    <tr>\n",
       "      <th>20140206</th>\n",
       "      <td>-1.0</td>\n",
       "    </tr>\n",
       "    <tr>\n",
       "      <th>20140207</th>\n",
       "      <td>-1.0</td>\n",
       "    </tr>\n",
       "  </tbody>\n",
       "</table>\n",
       "</div>"
      ],
      "text/plain": [
       "          JPNBCG1\n",
       "date             \n",
       "20140203     -1.0\n",
       "20140204     -1.0\n",
       "20140205     -1.0\n",
       "20140206     -1.0\n",
       "20140207     -1.0"
      ]
     },
     "execution_count": 2,
     "metadata": {},
     "output_type": "execute_result"
    }
   ],
   "source": [
    "df_oracle.head()"
   ]
  },
  {
   "cell_type": "markdown",
   "metadata": {},
   "source": [
    "ここから逆強化学習"
   ]
  },
  {
   "cell_type": "code",
   "execution_count": 3,
   "metadata": {},
   "outputs": [],
   "source": [
    "import state\n",
    "import seaborn as sns\n",
    "import numpy as np\n",
    "import matplotlib as mpl\n",
    "import matplotlib.pyplot as plt\n",
    "from tqdm import tqdm\n",
    "from policy import eps_greedy\n",
    "\n",
    "%matplotlib inline "
   ]
  },
  {
   "cell_type": "code",
   "execution_count": 4,
   "metadata": {
    "scrolled": false
   },
   "outputs": [],
   "source": [
    "#df_oracle.iloc[:,0].plot()"
   ]
  },
  {
   "cell_type": "code",
   "execution_count": 5,
   "metadata": {},
   "outputs": [],
   "source": [
    "def encoding(oracle, value, growth):\n",
    "    days = oracle.shape[0]\n",
    "    num_ind = oracle.shape[1]\n",
    "    feature = np.zeros((num_ind,5,5))\n",
    "    for i in range(0,num_ind):\n",
    "        for j in range(0,days):\n",
    "            #print(i,j)\n",
    "            q_val = value.iloc[j,i] - 1\n",
    "            q_growth = growth.iloc[j,i] - 1\n",
    "            #print(q_val,q_growth)\n",
    "            feature[i][q_val][q_growth] +=  oracle.iloc[j,i]\n",
    "    return feature/days"
   ]
  },
  {
   "cell_type": "code",
   "execution_count": 6,
   "metadata": {
    "scrolled": true
   },
   "outputs": [
    {
     "name": "stdout",
     "output_type": "stream",
     "text": [
      "(1, 5, 5)\n"
     ]
    },
    {
     "data": {
      "text/plain": [
       "array([[[ 0.02570481,  0.02819237,  0.12023217,  0.        ,\n",
       "          0.        ],\n",
       "        [ 0.        ,  0.        ,  0.        ,  0.        ,\n",
       "          0.        ],\n",
       "        [ 0.        ,  0.        ,  0.        ,  0.        ,\n",
       "          0.        ],\n",
       "        [ 0.        ,  0.        ,  0.        ,  0.        ,\n",
       "          0.        ],\n",
       "        [ 0.        , -0.00829187,  0.013267  ,  0.        ,\n",
       "          0.        ]]])"
      ]
     },
     "execution_count": 6,
     "metadata": {},
     "output_type": "execute_result"
    }
   ],
   "source": [
    "feature = encoding(df_oracle,df_value,df_growth)\n",
    "print(feature.shape)\n",
    "feature"
   ]
  },
  {
   "cell_type": "code",
   "execution_count": 7,
   "metadata": {
    "scrolled": true
   },
   "outputs": [
    {
     "data": {
      "text/plain": [
       "<matplotlib.axes._subplots.AxesSubplot at 0x7f9e5fd82860>"
      ]
     },
     "execution_count": 7,
     "metadata": {},
     "output_type": "execute_result"
    },
    {
     "data": {
      "image/png": "[encoded data removed]",
      "text/plain": [
       "<matplotlib.figure.Figure at 0x7f9e5fd67eb8>"
      ]
     },
     "metadata": {},
     "output_type": "display_data"
    }
   ],
   "source": [
    "df_growth.plot()"
   ]
  },
  {
   "cell_type": "code",
   "execution_count": 8,
   "metadata": {
    "scrolled": true
   },
   "outputs": [
    {
     "data": {
      "text/plain": [
       "<matplotlib.axes._subplots.AxesSubplot at 0x7f9e5fd44ba8>"
      ]
     },
     "execution_count": 8,
     "metadata": {},
     "output_type": "execute_result"
    },
    {
     "data": {
      "image/png": "[encoded data removed]",
      "text/plain": [
       "<matplotlib.figure.Figure at 0x7f9e5fc87470>"
      ]
     },
     "metadata": {},
     "output_type": "display_data"
    }
   ],
   "source": [
    "df_value.plot()"
   ]
  },
  {
   "cell_type": "code",
   "execution_count": 9,
   "metadata": {},
   "outputs": [
    {
     "data": {
      "text/plain": [
       "<matplotlib.axes._subplots.AxesSubplot at 0x7f9e563e67b8>"
      ]
     },
     "execution_count": 9,
     "metadata": {},
     "output_type": "execute_result"
    },
    {
     "data": {
      "image/png": "[encoded data removed]",
      "text/plain": [
       "<matplotlib.figure.Figure at 0x7f9e56401320>"
      ]
     },
     "metadata": {},
     "output_type": "display_data"
    }
   ],
   "source": [
    "sns.heatmap(feature[0])"
   ]
  },
  {
   "cell_type": "code",
   "execution_count": 10,
   "metadata": {
    "scrolled": true
   },
   "outputs": [
    {
     "name": "stdout",
     "output_type": "stream",
     "text": [
      "[20170726, 20161228, 20160527, 20170405, 20150415, 20170125, 20161025, 20180918, 20141222, 20180626, 20141015, 20140825, 20161110, 20160120, 20160323, 20160719, 20171110, 20140729, 20160707, 20180919, 20180925, 20160513, 20141023, 20151202, 20180516, 20150522, 20170809, 20181211, 20161014, 20160105, 20180801, 20171214, 20150116, 20170622, 20180813, 20141017, 20141020, 20161024, 20150707, 20170328, 20161227, 20180723, 20160701, 20160510, 20170721, 20170516, 20180214, 20140310, 20170418, 20171116, 20140611, 20160318, 20140731, 20170928, 20180129, 20161216, 20141021, 20181205, 20160830, 20180313, 20140710, 20151117, 20160428, 20140527, 20170519, 20180423, 20161230, 20170531, 20140416, 20151225, 20170831, 20160421, 20140627, 20151125, 20170725, 20151203, 20161226, 20150918, 20180521, 20170704, 20170608, 20161007, 20170629, 20140624, 20141224, 20180928, 20160304, 20170414, 20140919, 20160328, 20170301, 20160815, 20181113, 20150618, 20150318, 20150430, 20170830, 20160704, 20150206, 20180328, 20170810, 20180911, 20150406, 20170213, 20170829, 20140212, 20170605, 20170525, 20150204, 20160725, 20160506, 20140606, 20180628, 20171201, 20161111, 20160317, 20160526, 20141031, 20180410, 20151020, 20151008]\n",
      "[[1.0], [1.0], [1.0], [1.0], [1.0], [1.0], [1.0], [1.0], [1.0], [1.0], [1.0], [1.0], [1.0], [1.0], [-1.0], [-1.0], [-1.0], [-1.0], [1.0], [1.0], [1.0], [-1.0], [1.0], [1.0], [1.0], [-1.0], [-1.0], [-1.0], [1.0], [-1.0], [1.0], [-1.0], [1.0], [1.0], [1.0], [1.0], [-1.0], [-1.0], [-1.0], [-1.0], [-1.0], [1.0], [1.0], [1.0], [1.0], [-1.0], [1.0], [1.0], [1.0], [1.0], [1.0], [1.0], [1.0], [-1.0], [-1.0], [-1.0], [1.0], [1.0], [1.0], [1.0], [1.0], [1.0], [1.0], [1.0], [1.0], [1.0], [1.0], [1.0], [1.0], [1.0], [1.0], [1.0], [1.0], [1.0], [1.0], [1.0], [-1.0], [-1.0], [1.0], [1.0], [1.0], [1.0], [1.0], [1.0], [1.0], [1.0], [-1.0], [1.0], [1.0], [1.0], [-1.0], [-1.0], [-1.0], [-1.0], [-1.0], [1.0], [1.0], [1.0], [1.0], [-1.0], [1.0], [-1.0], [1.0], [-1.0], [-1.0], [1.0], [1.0], [1.0], [-1.0], [-1.0], [1.0], [1.0], [1.0], [-1.0], [-1.0], [-1.0], [-1.0], [-1.0], [1.0], [1.0], [-1.0]]\n"
     ]
    }
   ],
   "source": [
    "def mk_chunk(df, div=10,seed = 0):\n",
    "    import random\n",
    "    l = list(df.index)\n",
    "    random.seed(seed)\n",
    "    random.shuffle(l)\n",
    "    tmp = np.array_split(l,div)\n",
    "    chunk = []\n",
    "    for i in range(0,div):\n",
    "        chunk.append(list(tmp[i]))\n",
    "    return chunk\n",
    "        \n",
    "def sampling():\n",
    "    return\n",
    "\n",
    "def split2trj(df):\n",
    "    trj = []\n",
    "    chunk = mk_chunk(df)\n",
    "    for c in mk_chunk(df):\n",
    "        tmp = []\n",
    "        tmp_df = df[df.index.isin(c)]\n",
    "        for i in range(0,tmp_df.shape[0]):\n",
    "            tmp.append(list(tmp_df.iloc[i,:]))\n",
    "        trj.append(tmp)\n",
    "    return chunk, trj\n",
    "\n",
    "print(mk_chunk(df_oracle)[0])\n",
    "print(split2trj(df_oracle)[1][0])"
   ]
  },
  {
   "cell_type": "code",
   "execution_count": 20,
   "metadata": {},
   "outputs": [
    {
     "name": "stdout",
     "output_type": "stream",
     "text": [
      "([<Action.BUY: 1>], [{'BUY': 1.0}])\n",
      "([<Action.BUY: 1>], [{'BUY': 1.0}])\n"
     ]
    }
   ],
   "source": [
    "from policy import eps_greedy\n",
    "s = [[1,1]]\n",
    "r = [[[0.5,0.3],[-0.2,0]]]\n",
    "for i in range(0,2):\n",
    "    print(eps_greedy(s,r))"
   ]
  },
  {
   "cell_type": "code",
   "execution_count": 97,
   "metadata": {
    "scrolled": true
   },
   "outputs": [],
   "source": [
    "def features_under_policy(df_values, df_growth, feature, rewards, chunks, trajectories):\n",
    "    t_size = len(trajectories)\n",
    "    n, q, _ = feature.shape\n",
    "    transition_probs = np.zeros((t_size, n, q, q))\n",
    "    initial_state_probs = np.zeros((n,q,q))\n",
    "\n",
    "    for c, t in zip (chunks, trajectories):\n",
    "        val = list(df_value[df_value.index.isin([c[0]])].head(1).values[0])\n",
    "        growth = list(df_growth[df_growth.index.isin([c[0]])].head(1).values[0])\n",
    "        for i,v,g in zip(range(initial_state_probs.shape[0]),val,growth):\n",
    "            initial_state_probs[i][v][g] += t[0][i]\n",
    "\n",
    "    initial_state_probs /= t_size\n",
    "    transition_probs[0] = initial_state_probs\n",
    "\n",
    "    for stk_i in range(0,n):\n",
    "        for t in range(1, t_size):\n",
    "            #for prev_s in basis.basis:\n",
    "            for prev_s_index in range(0,q*q):\n",
    "                v = int(prev_s_index / q)\n",
    "                g = prev_s_index % q\n",
    "                prev_s = [[v+1,g+1]]\n",
    "                prev_prob = transition_probs[t-1][stk_i][v][g]\n",
    "                # バンデット問題へ変更\n",
    "                # a = self.planner.act(prev_s)\n",
    "                # probs = self.env.transit_func(prev_s, a)\n",
    "                actions, probs = eps_greedy(prev_s,rewards,epsilon=0.1)\n",
    "                for s in probs[stk_i].values():\n",
    "                    #transition_probs[t][s] += prev_prob * probs[s]\n",
    "                    transition_probs[t][stk_i][v][g] += prev_prob * s\n",
    "\n",
    "    total = np.mean(transition_probs, axis=0)\n",
    "    print('transition_probs')\n",
    "    print(transition_probs)\n",
    "    return total\n"
   ]
  },
  {
   "cell_type": "code",
   "execution_count": 98,
   "metadata": {
    "scrolled": false
   },
   "outputs": [
    {
     "name": "stdout",
     "output_type": "stream",
     "text": [
      "teacher_features\n",
      "[[[ 0.02570481  0.02819237  0.12023217  0.          0.        ]\n",
      "  [ 0.          0.          0.          0.          0.        ]\n",
      "  [ 0.          0.          0.          0.          0.        ]\n",
      "  [ 0.          0.          0.          0.          0.        ]\n",
      "  [ 0.         -0.00829187  0.013267    0.          0.        ]]]\n",
      "theta\n",
      "[-0.52515652 -0.84642356 -0.40359897 -0.98732694 -0.44093439 -0.34490347\n",
      "  0.41089966 -0.53344842 -0.02353211  0.43056036  0.48452774  0.52120822\n",
      "  0.01698738 -0.75005617 -0.18544983  0.75510249 -0.00192033 -0.29104578\n",
      "  0.96860753 -0.70719268 -0.54954602 -0.04380413  0.87225531 -0.55531767\n",
      " -0.92389563]\n"
     ]
    },
    {
     "name": "stderr",
     "output_type": "stream",
     "text": [
      "100%|██████████| 2/2 [00:00<00:00, 53.09it/s]"
     ]
    },
    {
     "name": "stdout",
     "output_type": "stream",
     "text": [
      "transition_probs\n",
      "[[[[ 0.   0.   0.  -0.2  0. ]\n",
      "   [ 0.   0.  -0.1 -0.3  0. ]\n",
      "   [ 0.   0.   0.   0.   0. ]\n",
      "   [ 0.   0.   0.   0.   0. ]\n",
      "   [ 0.   0.   0.   0.   0. ]]]\n",
      "\n",
      "\n",
      " [[[ 0.   0.   0.  -0.2  0. ]\n",
      "   [ 0.   0.  -0.1 -0.3  0. ]\n",
      "   [ 0.   0.   0.   0.   0. ]\n",
      "   [ 0.   0.   0.   0.   0. ]\n",
      "   [ 0.   0.   0.   0.   0. ]]]\n",
      "\n",
      "\n",
      " [[[ 0.   0.   0.  -0.2  0. ]\n",
      "   [ 0.   0.  -0.1 -0.3  0. ]\n",
      "   [ 0.   0.   0.   0.   0. ]\n",
      "   [ 0.   0.   0.   0.   0. ]\n",
      "   [ 0.   0.   0.   0.   0. ]]]\n",
      "\n",
      "\n",
      " [[[ 0.   0.   0.  -0.2  0. ]\n",
      "   [ 0.   0.  -0.1 -0.3  0. ]\n",
      "   [ 0.   0.   0.   0.   0. ]\n",
      "   [ 0.   0.   0.   0.   0. ]\n",
      "   [ 0.   0.   0.   0.   0. ]]]\n",
      "\n",
      "\n",
      " [[[ 0.   0.   0.  -0.2  0. ]\n",
      "   [ 0.   0.  -0.1 -0.3  0. ]\n",
      "   [ 0.   0.   0.   0.   0. ]\n",
      "   [ 0.   0.   0.   0.   0. ]\n",
      "   [ 0.   0.   0.   0.   0. ]]]\n",
      "\n",
      "\n",
      " [[[ 0.   0.   0.  -0.2  0. ]\n",
      "   [ 0.   0.  -0.1 -0.3  0. ]\n",
      "   [ 0.   0.   0.   0.   0. ]\n",
      "   [ 0.   0.   0.   0.   0. ]\n",
      "   [ 0.   0.   0.   0.   0. ]]]\n",
      "\n",
      "\n",
      " [[[ 0.   0.   0.  -0.2  0. ]\n",
      "   [ 0.   0.  -0.1 -0.3  0. ]\n",
      "   [ 0.   0.   0.   0.   0. ]\n",
      "   [ 0.   0.   0.   0.   0. ]\n",
      "   [ 0.   0.   0.   0.   0. ]]]\n",
      "\n",
      "\n",
      " [[[ 0.   0.   0.  -0.2  0. ]\n",
      "   [ 0.   0.  -0.1 -0.3  0. ]\n",
      "   [ 0.   0.   0.   0.   0. ]\n",
      "   [ 0.   0.   0.   0.   0. ]\n",
      "   [ 0.   0.   0.   0.   0. ]]]\n",
      "\n",
      "\n",
      " [[[ 0.   0.   0.  -0.2  0. ]\n",
      "   [ 0.   0.  -0.1 -0.3  0. ]\n",
      "   [ 0.   0.   0.   0.   0. ]\n",
      "   [ 0.   0.   0.   0.   0. ]\n",
      "   [ 0.   0.   0.   0.   0. ]]]\n",
      "\n",
      "\n",
      " [[[ 0.   0.   0.  -0.2  0. ]\n",
      "   [ 0.   0.  -0.1 -0.3  0. ]\n",
      "   [ 0.   0.   0.   0.   0. ]\n",
      "   [ 0.   0.   0.   0.   0. ]\n",
      "   [ 0.   0.   0.   0.   0. ]]]]\n",
      "[[[ 0.   0.   0.  -0.2  0. ]\n",
      "  [ 0.   0.  -0.1 -0.3  0. ]\n",
      "  [ 0.   0.   0.   0.   0. ]\n",
      "  [ 0.   0.   0.   0.   0. ]\n",
      "  [ 0.   0.   0.   0.   0. ]]]\n",
      "transition_probs\n",
      "[[[[ 0.   0.   0.  -0.2  0. ]\n",
      "   [ 0.   0.  -0.1 -0.3  0. ]\n",
      "   [ 0.   0.   0.   0.   0. ]\n",
      "   [ 0.   0.   0.   0.   0. ]\n",
      "   [ 0.   0.   0.   0.   0. ]]]\n",
      "\n",
      "\n",
      " [[[ 0.   0.   0.  -0.2  0. ]\n",
      "   [ 0.   0.  -0.1 -0.3  0. ]\n",
      "   [ 0.   0.   0.   0.   0. ]\n",
      "   [ 0.   0.   0.   0.   0. ]\n",
      "   [ 0.   0.   0.   0.   0. ]]]\n",
      "\n",
      "\n",
      " [[[ 0.   0.   0.  -0.2  0. ]\n",
      "   [ 0.   0.  -0.1 -0.3  0. ]\n",
      "   [ 0.   0.   0.   0.   0. ]\n",
      "   [ 0.   0.   0.   0.   0. ]\n",
      "   [ 0.   0.   0.   0.   0. ]]]\n",
      "\n",
      "\n",
      " [[[ 0.   0.   0.  -0.2  0. ]\n",
      "   [ 0.   0.  -0.1 -0.3  0. ]\n",
      "   [ 0.   0.   0.   0.   0. ]\n",
      "   [ 0.   0.   0.   0.   0. ]\n",
      "   [ 0.   0.   0.   0.   0. ]]]\n",
      "\n",
      "\n",
      " [[[ 0.   0.   0.  -0.2  0. ]\n",
      "   [ 0.   0.  -0.1 -0.3  0. ]\n",
      "   [ 0.   0.   0.   0.   0. ]\n",
      "   [ 0.   0.   0.   0.   0. ]\n",
      "   [ 0.   0.   0.   0.   0. ]]]\n",
      "\n",
      "\n",
      " [[[ 0.   0.   0.  -0.2  0. ]\n",
      "   [ 0.   0.  -0.1 -0.3  0. ]\n",
      "   [ 0.   0.   0.   0.   0. ]\n",
      "   [ 0.   0.   0.   0.   0. ]\n",
      "   [ 0.   0.   0.   0.   0. ]]]\n",
      "\n",
      "\n",
      " [[[ 0.   0.   0.  -0.2  0. ]\n",
      "   [ 0.   0.  -0.1 -0.3  0. ]\n",
      "   [ 0.   0.   0.   0.   0. ]\n",
      "   [ 0.   0.   0.   0.   0. ]\n",
      "   [ 0.   0.   0.   0.   0. ]]]\n",
      "\n",
      "\n",
      " [[[ 0.   0.   0.  -0.2  0. ]\n",
      "   [ 0.   0.  -0.1 -0.3  0. ]\n",
      "   [ 0.   0.   0.   0.   0. ]\n",
      "   [ 0.   0.   0.   0.   0. ]\n",
      "   [ 0.   0.   0.   0.   0. ]]]\n",
      "\n",
      "\n",
      " [[[ 0.   0.   0.  -0.2  0. ]\n",
      "   [ 0.   0.  -0.1 -0.3  0. ]\n",
      "   [ 0.   0.   0.   0.   0. ]\n",
      "   [ 0.   0.   0.   0.   0. ]\n",
      "   [ 0.   0.   0.   0.   0. ]]]\n",
      "\n",
      "\n",
      " [[[ 0.   0.   0.  -0.2  0. ]\n",
      "   [ 0.   0.  -0.1 -0.3  0. ]\n",
      "   [ 0.   0.   0.   0.   0. ]\n",
      "   [ 0.   0.   0.   0.   0. ]\n",
      "   [ 0.   0.   0.   0.   0. ]]]]\n",
      "[[[ 0.   0.   0.  -0.2  0. ]\n",
      "  [ 0.   0.  -0.1 -0.3  0. ]\n",
      "  [ 0.   0.   0.   0.   0. ]\n",
      "  [ 0.   0.   0.   0.   0. ]\n",
      "  [ 0.   0.   0.   0.   0. ]]]\n",
      "[[[-0.52464242 -0.84585971 -0.40119433 -0.98332694 -0.44093439]\n",
      "  [-0.34490347  0.41089966 -0.53144842 -0.01753211  0.43056036]\n",
      "  [ 0.48452774  0.52120822  0.01698738 -0.75005617 -0.18544983]\n",
      "  [ 0.75510249 -0.00192033 -0.29104578  0.96860753 -0.70719268]\n",
      "  [-0.54954602 -0.04396997  0.87252065 -0.55531767 -0.92389563]]]\n"
     ]
    },
    {
     "name": "stderr",
     "output_type": "stream",
     "text": [
      "\n"
     ]
    },
    {
     "data": {
      "text/plain": [
       "[<matplotlib.lines.Line2D at 0x7f9e5509a630>]"
      ]
     },
     "execution_count": 98,
     "metadata": {},
     "output_type": "execute_result"
    },
    {
     "data": {
      "image/png": "[encoded data removed]",
      "text/plain": [
       "<matplotlib.figure.Figure at 0x7f9e5517def0>"
      ]
     },
     "metadata": {},
     "output_type": "display_data"
    }
   ],
   "source": [
    "def main(df_oracle,df_value,df_growth, epoch=2, learning_rate=0.01):\n",
    "    log = []\n",
    "    \n",
    "    # encode teacher action to feature\n",
    "    # e.g.) [1,2,0,4,4] / len(trajectories)\n",
    "    teacher_features = encoding(df_oracle,df_value,df_growth)\n",
    "    print('teacher_features')\n",
    "    print(teacher_features)\n",
    "    #print(teacher_features.shape)\n",
    "    dim = 1\n",
    "    for d in teacher_features.shape:\n",
    "        dim = dim * d\n",
    "    theta = np.random.uniform(low=-1, high=1, size=dim)\n",
    "    print('theta')\n",
    "    print(theta)\n",
    "    \n",
    "    # e.g.) trajectories = [[12, 13, 14, 14, 15, 11, 7, 3, 3], [12, 13, 14, 15, 11, 10, 14, 15, 11, 7, 3, 3]]\n",
    "    chunks, trajectories = split2trj(df_oracle)\n",
    "    \n",
    "    for e in tqdm(range(epoch)):\n",
    "        # Estimate reward.\n",
    "        rewards = theta.reshape(teacher_features.shape)\n",
    "\n",
    "        # Estimate feature under policy. \n",
    "        # features_under_policy(df_values, df_growth, feature, rewards, chunk, trajectories):\n",
    "        features = features_under_policy(df_value, df_growth, teacher_features, rewards, chunks, trajectories)\n",
    "\n",
    "        # Update to close to teacher.\n",
    "        update = teacher_features - features\n",
    "        print(features)\n",
    "        theta += learning_rate * update.reshape(theta.shape)\n",
    "        \n",
    "        log.append(np.sum(abs(update)))\n",
    "\n",
    "    estimated = theta.reshape(teacher_features.shape)\n",
    "    print(estimated)\n",
    "    return estimated, log\n",
    "\n",
    "estimated, log = main(df_oracle,df_value,df_growth)\n",
    "sns.set()\n",
    "plt.plot(log)"
   ]
  },
  {
   "cell_type": "code",
   "execution_count": null,
   "metadata": {},
   "outputs": [],
   "source": []
  },
  {
   "cell_type": "code",
   "execution_count": null,
   "metadata": {},
   "outputs": [],
   "source": [
    "def main():\n",
    "    irl = MaxEntIRL(env)\n",
    "    # one-hot vecの基底を作成，縦に積む．\n",
    "    state_features = np.vstack([self.env.state_to_feature(s)\n",
    "                               for s in self.env.states])\n",
    "    theta = np.random.uniform(size=state_features.shape[1])\n",
    "\n",
    "    # 行動をone-hotのエピソード平均へ \n",
    "    # e.g.) trajectories = [[12, 13, 14, 14, 15, 11, 7, 3, 3], [12, 13, 14, 15, 11, 10, 14, 15, 11, 7, 3, 3]]\n",
    "    teacher_features = self.calculate_expected_feature(trajectories)\n",
    "\n",
    "    for e in tqdm(range(epoch)):\n",
    "        # Estimate reward.\n",
    "        rewards = state_features.dot(theta.T)\n",
    "\n",
    "        # Estimate feature under policy.\n",
    "        features = self.expected_features_under_policy(\n",
    "                            self.planner.policy, trajectories)\n",
    "\n",
    "        # Update to close to teacher.\n",
    "        update = teacher_features - features.dot(state_features)\n",
    "        theta += learning_rate * update\n",
    "\n",
    "    estimated = state_features.dot(theta.T)\n",
    "    estimated = estimated.reshape(self.env.shape)\n",
    "    \n",
    "    print(rewards)\n",
    "    env.plot_on_grid(rewards)"
   ]
  },
  {
   "cell_type": "code",
   "execution_count": null,
   "metadata": {},
   "outputs": [],
   "source": []
  },
  {
   "cell_type": "code",
   "execution_count": null,
   "metadata": {},
   "outputs": [],
   "source": []
  },
  {
   "cell_type": "code",
   "execution_count": null,
   "metadata": {
    "scrolled": true
   },
   "outputs": [],
   "source": [
    "teacher_feature = pd.DataFrame((df_oracle > 0).sum()/df_oracle.shape[0],columns=['p'])\n",
    "teacher_feature['n'] = 1 - teacher_feature.p\n",
    "teacher_feature"
   ]
  },
  {
   "cell_type": "code",
   "execution_count": null,
   "metadata": {},
   "outputs": [],
   "source": []
  }
 ],
 "metadata": {
  "kernelspec": {
   "display_name": "Python 3",
   "language": "python",
   "name": "python3"
  },
  "language_info": {
   "codemirror_mode": {
    "name": "ipython",
    "version": 3
   },
   "file_extension": ".py",
   "mimetype": "text/x-python",
   "name": "python",
   "nbconvert_exporter": "python",
   "pygments_lexer": "ipython3",
   "version": "3.6.2"
  }
 },
 "nbformat": 4,
 "nbformat_minor": 2
}
